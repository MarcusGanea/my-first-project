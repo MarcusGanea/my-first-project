{
 "cells": [
  {
   "cell_type": "code",
   "execution_count": 1,
   "id": "a311f216-040d-4bc5-a735-121b99a1aaca",
   "metadata": {},
   "outputs": [
    {
     "data": {
      "application/vnd.plotly.v1+json": {
       "config": {
        "plotlyServerURL": "https://plot.ly"
       },
       "data": [
        {
         "color": "lightpink",
         "opacity": 0.5,
         "type": "mesh3d",
         "x": {
          "_inputArray": {
           "0": 0.689484,
           "1": 0.476483,
           "10": 1.823355,
           "11": 1.868743,
           "12": 1.437345,
           "13": 1.248269,
           "14": 1.108745,
           "15": 1.670774,
           "16": 1.503391,
           "17": 1.406028,
           "18": 1.97107,
           "19": 1.853437,
           "2": 0.58677,
           "20": 1.361601,
           "21": 1.139926,
           "22": 1.949556,
           "23": 2.323108,
           "24": 2.558936,
           "25": 2.650508,
           "26": 2.431305,
           "27": 2.026224,
           "28": 1.971259,
           "29": 1.168452,
           "3": 1.068768,
           "30": 1.342775,
           "31": 1.129037,
           "32": 0.871781,
           "33": 0.855148,
           "34": 0.395625,
           "35": 1.051331,
           "36": 1.309558,
           "37": 1.876837,
           "38": 2.620561,
           "39": 2.508878,
           "4": 1.43806,
           "40": 2.646833,
           "41": 2.448341,
           "42": 1.610501,
           "43": 1.925691,
           "44": 1.9184,
           "45": 1.910517,
           "46": 2.450736,
           "47": 2.381144,
           "48": 2.1596,
           "49": 2.379856,
           "5": 1.483567,
           "50": 2.254824,
           "51": 2.32,
           "52": 1.698536,
           "53": 1.527831,
           "54": 1.530377,
           "55": 1.67204,
           "56": 1.534793,
           "57": 1.886021,
           "58": 2.062097,
           "59": 2.128729,
           "6": 1.163844,
           "60": 2.057646,
           "61": 2.155564,
           "62": 2.698137,
           "63": 3.066121,
           "64": 3.925938,
           "65": 4.240422,
           "66": 3.907132,
           "67": 3.750647,
           "68": 2.918651,
           "69": 2.980647,
           "7": 1.491083,
           "70": 2.992436,
           "71": 2.71034,
           "72": 2.693541,
           "73": 2.361263,
           "74": 1.897547,
           "75": 2.345557,
           "76": 2.007566,
           "77": 1.599818,
           "78": 1.182395,
           "79": 1.469907,
           "8": 1.970356,
           "80": 1.460792,
           "81": 1.11318,
           "82": 0.879555,
           "83": 1.351152,
           "84": 1.392628,
           "85": 1.926062,
           "86": 1.211311,
           "87": 0.913065,
           "88": 1.363192,
           "89": 2.032102,
           "9": 1.961689,
           "90": 1.738637,
           "91": 1.249448,
           "92": 0.610179,
           "93": 0.853197,
           "94": 0.794531,
           "95": 0.635271,
           "96": 0.545627,
           "97": 0.137978,
           "98": 0.552325,
           "99": 0.417952,
           "bdata": "PrDjv0AQ5j/gZYaNsn7eP/TDCOHRxuI/Zi5weawZ8T/f+NozSwL3Px3MJsCwvPc/TFXa4hqf8j/x8QnZedv3P1WjVwOUhv8/YcQ+ARRj/z8j+N9Kdiz9PxcQWg9f5v0/HhuBeF3/9j8exTnq6PjzPwWoqWVrvfE/GR2QhH27+j+dnKG44w34PyQqVDcXf/Y/DAdCsoCJ/z9CJEOOraf9P982UyEeyfU/9MKdCyM98j97h9uhYTH/P5WbqKW5lQJA2nQEcLN4BEB7Ss6JPTQFQGzPLAlQcwNAYvay7bQ1AEBxIY/gRor/P/chb7n6sfI/si5uowF89T9Ple8ZiRDyPw3GiESh5es/gqynVl9d6z9SuB6F61HZP+tVZHRA0vA/VHHjFvPz9D+Yw+47hgf+P2tiga/o9gRAKjv9oC4SBEDeyafHtiwFQMKlY84zlgNAA85SspzE+T9+ObNdoc/+P6hXyjLEsf4/hjsXRnqR/j/yCdl5G5sDQHKIuDmVDANAZohjXdxGAUDYg0nx8QkDQCLjUSrhCQJAj8L1KFyPAkAtQrEVNC37PyQKLev+cfg/Os/Yl2x8+D9UqdkDrcD6P14T0hqDjvg/ghspWyQt/j8NcEG2LH8AQNBf6BGjBwFANPYlGw92AEDEeqNWmD4BQDoF+dnIlQVAaqFkcmqHCEA7/aAuUmgPQKX0TC8x9hBAlj0JbM5BD0Beud42UwEOQGeAC7JlWQdANV1PdF3YB0AF/BpJgvAHQDtT6LzGrgVAKXtLOV+MBUDuCRLb3eMCQHP3OT5aXP4/ITtvY7PDAkAHflTDfg8AQITVWMLamPk/QkP/BBfr8j9kldIzvYT3P4oipG5nX/c/Afvo1JXP8T+hEAGHUCXsP8TMPo9RnvU/9+Y3TDRI9j/4F0FjJtH+P5ePpKSHYfM/ZOlDF9Q37T+JsyJqos/1P+wWgbG+QQBATdnpB3XR+z9716Avvf3zP2yXNhyWhuM/MnOBy2NN6z/HD5VGzGzpP2UcI9kjVOQ/IxEawcZ14T9yo8haQ6nBPyJseHqlrOE/Bg/Tvrm/2j8=",
           "dtype": "f8",
           "shape": "100"
          },
          "bdata": "PrDjv0AQ5j/gZYaNsn7eP/TDCOHRxuI/Zi5weawZ8T/f+NozSwL3Px3MJsCwvPc/TFXa4hqf8j/x8QnZedv3P1WjVwOUhv8/YcQ+ARRj/z8j+N9Kdiz9PxcQWg9f5v0/HhuBeF3/9j8exTnq6PjzPwWoqWVrvfE/GR2QhH27+j+dnKG44w34PyQqVDcXf/Y/DAdCsoCJ/z9CJEOOraf9P982UyEeyfU/9MKdCyM98j97h9uhYTH/P5WbqKW5lQJA2nQEcLN4BEB7Ss6JPTQFQGzPLAlQcwNAYvay7bQ1AEBxIY/gRor/P/chb7n6sfI/si5uowF89T9Ple8ZiRDyPw3GiESh5es/gqynVl9d6z9SuB6F61HZP+tVZHRA0vA/VHHjFvPz9D+Yw+47hgf+P2tiga/o9gRAKjv9oC4SBEDeyafHtiwFQMKlY84zlgNAA85SspzE+T9+ObNdoc/+P6hXyjLEsf4/hjsXRnqR/j/yCdl5G5sDQHKIuDmVDANAZohjXdxGAUDYg0nx8QkDQCLjUSrhCQJAj8L1KFyPAkAtQrEVNC37PyQKLev+cfg/Os/Yl2x8+D9UqdkDrcD6P14T0hqDjvg/ghspWyQt/j8NcEG2LH8AQNBf6BGjBwFANPYlGw92AEDEeqNWmD4BQDoF+dnIlQVAaqFkcmqHCEA7/aAuUmgPQKX0TC8x9hBAlj0JbM5BD0Beud42UwEOQGeAC7JlWQdANV1PdF3YB0AF/BpJgvAHQDtT6LzGrgVAKXtLOV+MBUDuCRLb3eMCQHP3OT5aXP4/ITtvY7PDAkAHflTDfg8AQITVWMLamPk/QkP/BBfr8j9kldIzvYT3P4oipG5nX/c/Afvo1JXP8T+hEAGHUCXsP8TMPo9RnvU/9+Y3TDRI9j/4F0FjJtH+P5ePpKSHYfM/ZOlDF9Q37T+JsyJqos/1P+wWgbG+QQBATdnpB3XR+z9716Avvf3zP2yXNhyWhuM/MnOBy2NN6z/HD5VGzGzpP2UcI9kjVOQ/IxEawcZ14T9yo8haQ6nBPyJseHqlrOE/Bg/Tvrm/2j8=",
          "dtype": "f8"
         },
         "y": {
          "_inputArray": {
           "0": -0.014459,
           "1": 0.162624,
           "10": 0.309693,
           "11": 0.171245,
           "12": 0.781093,
           "13": 0.429151,
           "14": 0.233132,
           "15": -0.080785,
           "16": -0.179939,
           "17": 0.025858,
           "18": 0.309369,
           "19": 0.65834,
           "2": 0.102149,
           "20": 0.443953,
           "21": 1.295734,
           "22": 1.032481,
           "23": 0.66557,
           "24": 0.22719,
           "25": 0.817791,
           "26": 1.189158,
           "27": 1.167509,
           "28": 0.499964,
           "29": 0.683057,
           "3": 0.678668,
           "30": 0.672141,
           "31": 0.183479,
           "32": 0.06947,
           "33": 0.587134,
           "34": 0.606762,
           "35": 0.804046,
           "36": 0.67245,
           "37": 0.506276,
           "38": 0.556901,
           "39": 0.445584,
           "4": 0.683633,
           "40": 0.160679,
           "41": -0.003327,
           "42": 0.031129,
           "43": -0.412504,
           "44": -0.344678,
           "45": -0.246417,
           "46": -0.725501,
           "47": -1.214003,
           "48": -1.524586,
           "49": -1.845657,
           "5": 0.140479,
           "50": -1.268736,
           "51": -1.171255,
           "52": -1.233225,
           "53": -1.374688,
           "54": -1.35563,
           "55": -1.146433,
           "56": -1.167195,
           "57": -0.864813,
           "58": -0.488551,
           "59": 0.153843,
           "6": 0.125522,
           "60": 0.302593,
           "61": 0.568636,
           "62": 0.182249,
           "63": 0.56296,
           "64": 0.252966,
           "65": -0.220912,
           "66": -0.328587,
           "67": -0.193345,
           "68": -0.238123,
           "69": 0.261956,
           "7": 0.31764,
           "70": 0.081961,
           "71": -0.49059,
           "72": -0.259896,
           "73": -0.187197,
           "74": -0.032457,
           "75": 0.049672,
           "76": 0.12171,
           "77": -0.105825,
           "78": -0.745416,
           "79": -0.795117,
           "8": 0.389628,
           "80": -0.45044,
           "81": -0.514758,
           "82": -0.639992,
           "83": -0.329654,
           "84": -0.215191,
           "85": -0.37535,
           "86": -1.208597,
           "87": -1.064432,
           "88": -1.33837,
           "89": -1.405084,
           "9": 0.144644,
           "90": -1.456743,
           "91": -1.299677,
           "92": -1.236958,
           "93": -0.482796,
           "94": -0.346327,
           "95": -0.689043,
           "96": -0.840409,
           "97": -1.16441,
           "98": -1.242295,
           "99": -1.794645,
           "bdata": "ABsQIa6cjb/cuMX83NDEP82wUdZvJro/cO8a9KW35T997C5QUuDlPx8sY0M3+8E/e9l22hoRwD8xsfm4NlTUP97GZkeq79g/EATI0LGDwj9MNbOWAtLTPyVATS1b68U/Dk5Ev7b+6D+v7ILBNXfbP1RW0/VE180/WOIBZVOutL9dMSO8PQjHv5IgXAGFepo/vFtZorPM0z+pwTQMHxHlP3eC/de5adw/Ugslk1O79D+t3AvMCoXwP+pb5nRZTOU/+Db92Y8UzT8D0v4HWCvqP6Rt/InKBvM/FJLM6h2u8j+bWUsBaf/fP1K5iVqa2+U/oZ+p1y2C5T86W0BoPXzHP0aZDTLJyLE/StQLPs3J4j/ik04kmGrjPwRZT62+uuk/FD/G3LWE5T+C/de5aTPgP6GCwwsi0uE/PLznwHKE3D+/tRMlIZHEP0iLM4Y5QWu/CyjU00fgnz8cB14td2bav9+kaVA0D9a/3NYWnpeKz7+044bfTTfnvyjv42iObPO/AwgfSrRk+L+0Imqiz4f9vy4gtB6+TPS/dmwE4nW98r/swDkjSrvzvyRCI9i4/vW/qZ83Famw9b/44SAhylfyvyLgEKrUrPK/EvsEUIys67/tZdtpa0Tfv7r4254gscM/4ue/B69d0z8TgeofRDLiPyxGXWvvU8c/3ZiesMQD4j/0/j9OmDDQPzigpSvYRsy/FQK5xJEH1b/kLOxph7/Iv8VztoDQes6/J2w/GePD0D8UJoxmZfu0Py+ob5nTZd+/Kh4X1SKi0L9WZHRAEvbHv4ZzDTM0nqC/accNv5tuqT/xnZj1Yii/PyxlGeJYF7u/y0i9p3La57/Vy+80mXHpv/naM0sC1Ny//FbrxOV44L/Fc7aA0Hrkv6a3PxcNGdW/Y1+y8WCLy78vbqMBvAXYvwuz0M5pVvO/0A1N2ekH8b8LKT+p9mn1vzYgQlw5e/a/stR6v9FO97900CUcesv0v7poyHiUyvO/eO+oMSHm3r/XMa64OCrWvxE10eejDOa/NnNIaqHk6r9vKlJhbKHyv8a/z7hw4PO/9ODurN22/L8=",
           "dtype": "f8",
           "shape": "100"
          },
          "bdata": "ABsQIa6cjb/cuMX83NDEP82wUdZvJro/cO8a9KW35T997C5QUuDlPx8sY0M3+8E/e9l22hoRwD8xsfm4NlTUP97GZkeq79g/EATI0LGDwj9MNbOWAtLTPyVATS1b68U/Dk5Ev7b+6D+v7ILBNXfbP1RW0/VE180/WOIBZVOutL9dMSO8PQjHv5IgXAGFepo/vFtZorPM0z+pwTQMHxHlP3eC/de5adw/Ugslk1O79D+t3AvMCoXwP+pb5nRZTOU/+Db92Y8UzT8D0v4HWCvqP6Rt/InKBvM/FJLM6h2u8j+bWUsBaf/fP1K5iVqa2+U/oZ+p1y2C5T86W0BoPXzHP0aZDTLJyLE/StQLPs3J4j/ik04kmGrjPwRZT62+uuk/FD/G3LWE5T+C/de5aTPgP6GCwwsi0uE/PLznwHKE3D+/tRMlIZHEP0iLM4Y5QWu/CyjU00fgnz8cB14td2bav9+kaVA0D9a/3NYWnpeKz7+044bfTTfnvyjv42iObPO/AwgfSrRk+L+0Imqiz4f9vy4gtB6+TPS/dmwE4nW98r/swDkjSrvzvyRCI9i4/vW/qZ83Famw9b/44SAhylfyvyLgEKrUrPK/EvsEUIys67/tZdtpa0Tfv7r4254gscM/4ue/B69d0z8TgeofRDLiPyxGXWvvU8c/3ZiesMQD4j/0/j9OmDDQPzigpSvYRsy/FQK5xJEH1b/kLOxph7/Iv8VztoDQes6/J2w/GePD0D8UJoxmZfu0Py+ob5nTZd+/Kh4X1SKi0L9WZHRAEvbHv4ZzDTM0nqC/accNv5tuqT/xnZj1Yii/PyxlGeJYF7u/y0i9p3La57/Vy+80mXHpv/naM0sC1Ny//FbrxOV44L/Fc7aA0Hrkv6a3PxcNGdW/Y1+y8WCLy78vbqMBvAXYvwuz0M5pVvO/0A1N2ekH8b8LKT+p9mn1vzYgQlw5e/a/stR6v9FO97900CUcesv0v7poyHiUyvO/eO+oMSHm3r/XMa64OCrWvxE10eejDOa/NnNIaqHk6r9vKlJhbKHyv8a/z7hw4PO/9ODurN22/L8=",
          "dtype": "f8"
         },
         "z": {
          "_inputArray": {
           "0": 0.428751,
           "1": 0.449488,
           "10": 0.151225,
           "11": -0.160235,
           "12": -0.56967,
           "13": -0.795403,
           "14": -0.744953,
           "15": -0.820339,
           "16": -0.791839,
           "17": -0.96783,
           "18": -0.65142,
           "19": -0.66108,
           "2": 0.769481,
           "20": -0.126488,
           "21": 0.114152,
           "22": 0.417303,
           "23": 0.615544,
           "24": 0.385185,
           "25": 0.186861,
           "26": -0.0858,
           "27": -0.120976,
           "28": -0.035002,
           "29": -0.309909,
           "3": 1.023915,
           "30": -0.208439,
           "31": -0.485355,
           "32": -0.734185,
           "33": -0.574637,
           "34": -1.004597,
           "35": -1.250838,
           "36": -1.174746,
           "37": -1.376205,
           "38": -1.528117,
           "39": -1.501028,
           "4": 0.752397,
           "40": -1.605397,
           "41": -1.875326,
           "42": -2.069439,
           "43": -2.138976,
           "44": -2.29942,
           "45": -2.245133,
           "46": -2.82832,
           "47": -2.812268,
           "48": -2.873087,
           "49": -2.758474,
           "5": 1.389489,
           "50": -3.020816,
           "51": -3.604322,
           "52": -3.369023,
           "53": -3.394583,
           "54": -3.29579,
           "55": -3.038195,
           "56": -3.646896,
           "57": -3.52345,
           "58": -3.273344,
           "59": -3.081451,
           "6": 1.098527,
           "60": -2.701675,
           "61": -2.718267,
           "62": -2.875416,
           "63": -2.909034,
           "64": -3.011479,
           "65": -2.79574,
           "66": -2.430246,
           "67": -2.166711,
           "68": -2.143549,
           "69": -2.218529,
           "7": 0.760376,
           "70": -2.173249,
           "71": -1.838208,
           "72": -1.613949,
           "73": -1.208869,
           "74": -0.792615,
           "75": -1.164745,
           "76": -1.080368,
           "77": -1.08692,
           "78": -0.878417,
           "79": -0.562867,
           "8": 0.631279,
           "80": -0.599801,
           "81": -0.508419,
           "82": -0.672436,
           "83": -0.829762,
           "84": -0.596751,
           "85": -0.554818,
           "86": -0.556275,
           "87": -0.494078,
           "88": -0.238343,
           "89": -0.335621,
           "9": 0.254462,
           "90": 0.028875,
           "91": 0.10227,
           "92": 0.31525,
           "93": 0.164532,
           "94": -0.462431,
           "95": -0.492473,
           "96": -0.344744,
           "97": -0.537114,
           "98": -0.476395,
           "99": -0.288381,
           "bdata": "niXICKhw2z/WcfxQacTcP4mWPJ6Wn+g/NSTusfRh8D/ueJPfohPoP4ttUtFYO/Y/LV4sDJGT8T+5OZUMAFXoP8fZdARwM+Q/vcgE/BpJ0D96Nqs+V1vDP/tXVpqUgsS/7WRwlLw64r89fQT+8HPpv6rTgayn1ue/W0QUkzdA6r+kUBa+vlbpv0bOwp52+O6/8bp+wW7Y5L8PRYE+kSflv7oQqz/CMMC/zuLFwhA5vT+4c2GkF7XaPwH4p1SJsuM/gjl6/N6m2D/y7PKtD+vHP0ku/yH99rW/UtSZe0j4vr/D1JY6yOuhv6wb746M1dO/NwAbECGuyr8czvxqDhDfvx/Xhopxfue/J0pCIm1j4r8ujspN1BLwvziB6bRuA/S/hbUxdsLL8r+Fd7mI7wT2v9hit88qc/i/qRWm7zUE+L9Qi8HDtK/5v3tq9dVVAf6/GonQCDaOAMBhbvdynxwBwIUlHlA2ZQLA6lxRSgj2AcBV+3Q8ZqAGwNmyfF2GfwbAhIB8CRX8BsAx7gbRWhEGwEjeOZShKgjAyAbSxabVDMBDxqNUwvMKwOZ1xCEbKAvA6N7DJcddCsA89x4uOU4IwEROX8/XLA3Ax7q4jQYwDMBsdqT6zi8KwN3PKcjPpgjAzF1LyAedBcBGXtbEAr8FwD0pkxraAAfA1J0nnrNFB8DtuUxNghcIwMvz4O6sXQbA5+CZ0CRxA8BREaeTbFUBwPD8ogT9JQHAGNLhIYy/AcCEhChf0GIBwNnts8pMaf2/KZfGL7zS+b8gX0IFh1fzv5M16iEaXem/UN8yp8ui8r+gUbr0L0nxv6Tk1TkGZPG/igPo9/0b7L+a7J+nAQPiv4Z1492RMeO/4Ec17PdE4L/W5ZSAmITlv2vVrglpjeq/ll6bjZUY47+YbaetEcHhvwWjkjoBzeG/4BPrVPme37/xgR3/BYLOv8VztoDQetW/xSCwcmiRnT/KplzhXS66P5MYBFYOLdQ/1J6Sc2IPxT9XBWoxeJjdv7luSnmthN+/mYBfI0kQ1r/pKAezCTDhvz6WPnRBfd6/7GrylNV00r8=",
           "dtype": "f8",
           "shape": "100"
          },
          "bdata": "niXICKhw2z/WcfxQacTcP4mWPJ6Wn+g/NSTusfRh8D/ueJPfohPoP4ttUtFYO/Y/LV4sDJGT8T+5OZUMAFXoP8fZdARwM+Q/vcgE/BpJ0D96Nqs+V1vDP/tXVpqUgsS/7WRwlLw64r89fQT+8HPpv6rTgayn1ue/W0QUkzdA6r+kUBa+vlbpv0bOwp52+O6/8bp+wW7Y5L8PRYE+kSflv7oQqz/CMMC/zuLFwhA5vT+4c2GkF7XaPwH4p1SJsuM/gjl6/N6m2D/y7PKtD+vHP0ku/yH99rW/UtSZe0j4vr/D1JY6yOuhv6wb746M1dO/NwAbECGuyr8czvxqDhDfvx/Xhopxfue/J0pCIm1j4r8ujspN1BLwvziB6bRuA/S/hbUxdsLL8r+Fd7mI7wT2v9hit88qc/i/qRWm7zUE+L9Qi8HDtK/5v3tq9dVVAf6/GonQCDaOAMBhbvdynxwBwIUlHlA2ZQLA6lxRSgj2AcBV+3Q8ZqAGwNmyfF2GfwbAhIB8CRX8BsAx7gbRWhEGwEjeOZShKgjAyAbSxabVDMBDxqNUwvMKwOZ1xCEbKAvA6N7DJcddCsA89x4uOU4IwEROX8/XLA3Ax7q4jQYwDMBsdqT6zi8KwN3PKcjPpgjAzF1LyAedBcBGXtbEAr8FwD0pkxraAAfA1J0nnrNFB8DtuUxNghcIwMvz4O6sXQbA5+CZ0CRxA8BREaeTbFUBwPD8ogT9JQHAGNLhIYy/AcCEhChf0GIBwNnts8pMaf2/KZfGL7zS+b8gX0IFh1fzv5M16iEaXem/UN8yp8ui8r+gUbr0L0nxv6Tk1TkGZPG/igPo9/0b7L+a7J+nAQPiv4Z1492RMeO/4Ec17PdE4L/W5ZSAmITlv2vVrglpjeq/ll6bjZUY47+YbaetEcHhvwWjkjoBzeG/4BPrVPme37/xgR3/BYLOv8VztoDQetW/xSCwcmiRnT/KplzhXS66P5MYBFYOLdQ/1J6Sc2IPxT9XBWoxeJjdv7luSnmthN+/mYBfI0kQ1r/pKAezCTDhvz6WPnRBfd6/7GrylNV00r8=",
          "dtype": "f8"
         }
        }
       ],
       "layout": {
        "autosize": true,
        "scene": {
         "aspectmode": "auto",
         "aspectratio": {
          "x": 1.020817567521995,
          "y": 0.7816772439198411,
          "z": 1.2532115696897421
         },
         "camera": {
          "center": {
           "x": 0,
           "y": 0,
           "z": 0
          },
          "eye": {
           "x": -0.24458992522532574,
           "y": 1.4112651468353317,
           "z": -0.038863699764690236
          },
          "projection": {
           "type": "perspective"
          },
          "up": {
           "x": 0,
           "y": 0,
           "z": 1
          }
         }
        },
        "template": {
         "data": {
          "bar": [
           {
            "error_x": {
             "color": "#2a3f5f"
            },
            "error_y": {
             "color": "#2a3f5f"
            },
            "marker": {
             "line": {
              "color": "#E5ECF6",
              "width": 0.5
             },
             "pattern": {
              "fillmode": "overlay",
              "size": 10,
              "solidity": 0.2
             }
            },
            "type": "bar"
           }
          ],
          "barpolar": [
           {
            "marker": {
             "line": {
              "color": "#E5ECF6",
              "width": 0.5
             },
             "pattern": {
              "fillmode": "overlay",
              "size": 10,
              "solidity": 0.2
             }
            },
            "type": "barpolar"
           }
          ],
          "carpet": [
           {
            "aaxis": {
             "endlinecolor": "#2a3f5f",
             "gridcolor": "white",
             "linecolor": "white",
             "minorgridcolor": "white",
             "startlinecolor": "#2a3f5f"
            },
            "baxis": {
             "endlinecolor": "#2a3f5f",
             "gridcolor": "white",
             "linecolor": "white",
             "minorgridcolor": "white",
             "startlinecolor": "#2a3f5f"
            },
            "type": "carpet"
           }
          ],
          "choropleth": [
           {
            "colorbar": {
             "outlinewidth": 0,
             "ticks": ""
            },
            "type": "choropleth"
           }
          ],
          "contour": [
           {
            "colorbar": {
             "outlinewidth": 0,
             "ticks": ""
            },
            "colorscale": [
             [
              0,
              "#0d0887"
             ],
             [
              0.1111111111111111,
              "#46039f"
             ],
             [
              0.2222222222222222,
              "#7201a8"
             ],
             [
              0.3333333333333333,
              "#9c179e"
             ],
             [
              0.4444444444444444,
              "#bd3786"
             ],
             [
              0.5555555555555556,
              "#d8576b"
             ],
             [
              0.6666666666666666,
              "#ed7953"
             ],
             [
              0.7777777777777778,
              "#fb9f3a"
             ],
             [
              0.8888888888888888,
              "#fdca26"
             ],
             [
              1,
              "#f0f921"
             ]
            ],
            "type": "contour"
           }
          ],
          "contourcarpet": [
           {
            "colorbar": {
             "outlinewidth": 0,
             "ticks": ""
            },
            "type": "contourcarpet"
           }
          ],
          "heatmap": [
           {
            "colorbar": {
             "outlinewidth": 0,
             "ticks": ""
            },
            "colorscale": [
             [
              0,
              "#0d0887"
             ],
             [
              0.1111111111111111,
              "#46039f"
             ],
             [
              0.2222222222222222,
              "#7201a8"
             ],
             [
              0.3333333333333333,
              "#9c179e"
             ],
             [
              0.4444444444444444,
              "#bd3786"
             ],
             [
              0.5555555555555556,
              "#d8576b"
             ],
             [
              0.6666666666666666,
              "#ed7953"
             ],
             [
              0.7777777777777778,
              "#fb9f3a"
             ],
             [
              0.8888888888888888,
              "#fdca26"
             ],
             [
              1,
              "#f0f921"
             ]
            ],
            "type": "heatmap"
           }
          ],
          "histogram": [
           {
            "marker": {
             "pattern": {
              "fillmode": "overlay",
              "size": 10,
              "solidity": 0.2
             }
            },
            "type": "histogram"
           }
          ],
          "histogram2d": [
           {
            "colorbar": {
             "outlinewidth": 0,
             "ticks": ""
            },
            "colorscale": [
             [
              0,
              "#0d0887"
             ],
             [
              0.1111111111111111,
              "#46039f"
             ],
             [
              0.2222222222222222,
              "#7201a8"
             ],
             [
              0.3333333333333333,
              "#9c179e"
             ],
             [
              0.4444444444444444,
              "#bd3786"
             ],
             [
              0.5555555555555556,
              "#d8576b"
             ],
             [
              0.6666666666666666,
              "#ed7953"
             ],
             [
              0.7777777777777778,
              "#fb9f3a"
             ],
             [
              0.8888888888888888,
              "#fdca26"
             ],
             [
              1,
              "#f0f921"
             ]
            ],
            "type": "histogram2d"
           }
          ],
          "histogram2dcontour": [
           {
            "colorbar": {
             "outlinewidth": 0,
             "ticks": ""
            },
            "colorscale": [
             [
              0,
              "#0d0887"
             ],
             [
              0.1111111111111111,
              "#46039f"
             ],
             [
              0.2222222222222222,
              "#7201a8"
             ],
             [
              0.3333333333333333,
              "#9c179e"
             ],
             [
              0.4444444444444444,
              "#bd3786"
             ],
             [
              0.5555555555555556,
              "#d8576b"
             ],
             [
              0.6666666666666666,
              "#ed7953"
             ],
             [
              0.7777777777777778,
              "#fb9f3a"
             ],
             [
              0.8888888888888888,
              "#fdca26"
             ],
             [
              1,
              "#f0f921"
             ]
            ],
            "type": "histogram2dcontour"
           }
          ],
          "mesh3d": [
           {
            "colorbar": {
             "outlinewidth": 0,
             "ticks": ""
            },
            "type": "mesh3d"
           }
          ],
          "parcoords": [
           {
            "line": {
             "colorbar": {
              "outlinewidth": 0,
              "ticks": ""
             }
            },
            "type": "parcoords"
           }
          ],
          "pie": [
           {
            "automargin": true,
            "type": "pie"
           }
          ],
          "scatter": [
           {
            "fillpattern": {
             "fillmode": "overlay",
             "size": 10,
             "solidity": 0.2
            },
            "type": "scatter"
           }
          ],
          "scatter3d": [
           {
            "line": {
             "colorbar": {
              "outlinewidth": 0,
              "ticks": ""
             }
            },
            "marker": {
             "colorbar": {
              "outlinewidth": 0,
              "ticks": ""
             }
            },
            "type": "scatter3d"
           }
          ],
          "scattercarpet": [
           {
            "marker": {
             "colorbar": {
              "outlinewidth": 0,
              "ticks": ""
             }
            },
            "type": "scattercarpet"
           }
          ],
          "scattergeo": [
           {
            "marker": {
             "colorbar": {
              "outlinewidth": 0,
              "ticks": ""
             }
            },
            "type": "scattergeo"
           }
          ],
          "scattergl": [
           {
            "marker": {
             "colorbar": {
              "outlinewidth": 0,
              "ticks": ""
             }
            },
            "type": "scattergl"
           }
          ],
          "scattermap": [
           {
            "marker": {
             "colorbar": {
              "outlinewidth": 0,
              "ticks": ""
             }
            },
            "type": "scattermap"
           }
          ],
          "scattermapbox": [
           {
            "marker": {
             "colorbar": {
              "outlinewidth": 0,
              "ticks": ""
             }
            },
            "type": "scattermapbox"
           }
          ],
          "scatterpolar": [
           {
            "marker": {
             "colorbar": {
              "outlinewidth": 0,
              "ticks": ""
             }
            },
            "type": "scatterpolar"
           }
          ],
          "scatterpolargl": [
           {
            "marker": {
             "colorbar": {
              "outlinewidth": 0,
              "ticks": ""
             }
            },
            "type": "scatterpolargl"
           }
          ],
          "scatterternary": [
           {
            "marker": {
             "colorbar": {
              "outlinewidth": 0,
              "ticks": ""
             }
            },
            "type": "scatterternary"
           }
          ],
          "surface": [
           {
            "colorbar": {
             "outlinewidth": 0,
             "ticks": ""
            },
            "colorscale": [
             [
              0,
              "#0d0887"
             ],
             [
              0.1111111111111111,
              "#46039f"
             ],
             [
              0.2222222222222222,
              "#7201a8"
             ],
             [
              0.3333333333333333,
              "#9c179e"
             ],
             [
              0.4444444444444444,
              "#bd3786"
             ],
             [
              0.5555555555555556,
              "#d8576b"
             ],
             [
              0.6666666666666666,
              "#ed7953"
             ],
             [
              0.7777777777777778,
              "#fb9f3a"
             ],
             [
              0.8888888888888888,
              "#fdca26"
             ],
             [
              1,
              "#f0f921"
             ]
            ],
            "type": "surface"
           }
          ],
          "table": [
           {
            "cells": {
             "fill": {
              "color": "#EBF0F8"
             },
             "line": {
              "color": "white"
             }
            },
            "header": {
             "fill": {
              "color": "#C8D4E3"
             },
             "line": {
              "color": "white"
             }
            },
            "type": "table"
           }
          ]
         },
         "layout": {
          "annotationdefaults": {
           "arrowcolor": "#2a3f5f",
           "arrowhead": 0,
           "arrowwidth": 1
          },
          "autotypenumbers": "strict",
          "coloraxis": {
           "colorbar": {
            "outlinewidth": 0,
            "ticks": ""
           }
          },
          "colorscale": {
           "diverging": [
            [
             0,
             "#8e0152"
            ],
            [
             0.1,
             "#c51b7d"
            ],
            [
             0.2,
             "#de77ae"
            ],
            [
             0.3,
             "#f1b6da"
            ],
            [
             0.4,
             "#fde0ef"
            ],
            [
             0.5,
             "#f7f7f7"
            ],
            [
             0.6,
             "#e6f5d0"
            ],
            [
             0.7,
             "#b8e186"
            ],
            [
             0.8,
             "#7fbc41"
            ],
            [
             0.9,
             "#4d9221"
            ],
            [
             1,
             "#276419"
            ]
           ],
           "sequential": [
            [
             0,
             "#0d0887"
            ],
            [
             0.1111111111111111,
             "#46039f"
            ],
            [
             0.2222222222222222,
             "#7201a8"
            ],
            [
             0.3333333333333333,
             "#9c179e"
            ],
            [
             0.4444444444444444,
             "#bd3786"
            ],
            [
             0.5555555555555556,
             "#d8576b"
            ],
            [
             0.6666666666666666,
             "#ed7953"
            ],
            [
             0.7777777777777778,
             "#fb9f3a"
            ],
            [
             0.8888888888888888,
             "#fdca26"
            ],
            [
             1,
             "#f0f921"
            ]
           ],
           "sequentialminus": [
            [
             0,
             "#0d0887"
            ],
            [
             0.1111111111111111,
             "#46039f"
            ],
            [
             0.2222222222222222,
             "#7201a8"
            ],
            [
             0.3333333333333333,
             "#9c179e"
            ],
            [
             0.4444444444444444,
             "#bd3786"
            ],
            [
             0.5555555555555556,
             "#d8576b"
            ],
            [
             0.6666666666666666,
             "#ed7953"
            ],
            [
             0.7777777777777778,
             "#fb9f3a"
            ],
            [
             0.8888888888888888,
             "#fdca26"
            ],
            [
             1,
             "#f0f921"
            ]
           ]
          },
          "colorway": [
           "#636efa",
           "#EF553B",
           "#00cc96",
           "#ab63fa",
           "#FFA15A",
           "#19d3f3",
           "#FF6692",
           "#B6E880",
           "#FF97FF",
           "#FECB52"
          ],
          "font": {
           "color": "#2a3f5f"
          },
          "geo": {
           "bgcolor": "white",
           "lakecolor": "white",
           "landcolor": "#E5ECF6",
           "showlakes": true,
           "showland": true,
           "subunitcolor": "white"
          },
          "hoverlabel": {
           "align": "left"
          },
          "hovermode": "closest",
          "mapbox": {
           "style": "light"
          },
          "paper_bgcolor": "white",
          "plot_bgcolor": "#E5ECF6",
          "polar": {
           "angularaxis": {
            "gridcolor": "white",
            "linecolor": "white",
            "ticks": ""
           },
           "bgcolor": "#E5ECF6",
           "radialaxis": {
            "gridcolor": "white",
            "linecolor": "white",
            "ticks": ""
           }
          },
          "scene": {
           "xaxis": {
            "backgroundcolor": "#E5ECF6",
            "gridcolor": "white",
            "gridwidth": 2,
            "linecolor": "white",
            "showbackground": true,
            "ticks": "",
            "zerolinecolor": "white"
           },
           "yaxis": {
            "backgroundcolor": "#E5ECF6",
            "gridcolor": "white",
            "gridwidth": 2,
            "linecolor": "white",
            "showbackground": true,
            "ticks": "",
            "zerolinecolor": "white"
           },
           "zaxis": {
            "backgroundcolor": "#E5ECF6",
            "gridcolor": "white",
            "gridwidth": 2,
            "linecolor": "white",
            "showbackground": true,
            "ticks": "",
            "zerolinecolor": "white"
           }
          },
          "shapedefaults": {
           "line": {
            "color": "#2a3f5f"
           }
          },
          "ternary": {
           "aaxis": {
            "gridcolor": "white",
            "linecolor": "white",
            "ticks": ""
           },
           "baxis": {
            "gridcolor": "white",
            "linecolor": "white",
            "ticks": ""
           },
           "bgcolor": "#E5ECF6",
           "caxis": {
            "gridcolor": "white",
            "linecolor": "white",
            "ticks": ""
           }
          },
          "title": {
           "x": 0.05
          },
          "xaxis": {
           "automargin": true,
           "gridcolor": "white",
           "linecolor": "white",
           "ticks": "",
           "title": {
            "standoff": 15
           },
           "zerolinecolor": "white",
           "zerolinewidth": 2
          },
          "yaxis": {
           "automargin": true,
           "gridcolor": "white",
           "linecolor": "white",
           "ticks": "",
           "title": {
            "standoff": 15
           },
           "zerolinecolor": "white",
           "zerolinewidth": 2
          }
         }
        }
       }
      },
      "image/png": "[encoded data removed]"
     },
     "metadata": {},
     "output_type": "display_data"
    }
   ],
   "source": [
    "import plotly.graph_objects as go\n",
    "import numpy as np\n",
    "from numpy.lib.npyio import DataSource\n",
    "\n",
    "# Download data set from plotly repo\n",
    "pts = np.loadtxt(DataSource().open('https://raw.githubusercontent.com/plotly/datasets/master/mesh_dataset.txt'))\n",
    "x, y, z = pts.T\n",
    "\n",
    "fig = go.Figure(data=[go.Mesh3d(x=x, y=y, z=z, color='lightpink', opacity=0.50)])\n",
    "fig.show()"
   ]
  },
  {
   "cell_type": "code",
   "execution_count": null,
   "id": "d636263c-a110-4a60-877b-960c9313e0f9",
   "metadata": {},
   "outputs": [],
   "source": []
  },
  {
   "cell_type": "code",
   "execution_count": null,
   "id": "58699324-1f64-4f21-b54b-5ce9eb75da87",
   "metadata": {},
   "outputs": [],
   "source": []
  },
  {
   "cell_type": "code",
   "execution_count": null,
   "id": "0bedd9f8-d770-4645-946c-a7de6630ef58",
   "metadata": {},
   "outputs": [],
   "source": []
  },
  {
   "cell_type": "code",
   "execution_count": null,
   "id": "fa7739ca-5954-44e2-8279-7d6c2242cbb4",
   "metadata": {},
   "outputs": [],
   "source": []
  }
 ],
 "metadata": {
  "kernelspec": {
   "display_name": "Python 3 (ipykernel)",
   "language": "python",
   "name": "python3"
  },
  "language_info": {
   "codemirror_mode": {
    "name": "ipython",
    "version": 3
   },
   "file_extension": ".py",
   "mimetype": "text/x-python",
   "name": "python",
   "nbconvert_exporter": "python",
   "pygments_lexer": "ipython3",
   "version": "3.10.12"
  }
 },
 "nbformat": 4,
 "nbformat_minor": 5
}
